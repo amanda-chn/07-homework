{
 "cells": [
  {
   "cell_type": "markdown",
   "metadata": {
    "collapsed": true
   },
   "source": [
    "# Homework 7, Part One: Lots and lots of questions about beer"
   ]
  },
  {
   "cell_type": "markdown",
   "metadata": {},
   "source": [
    "### Do your importing and your setup"
   ]
  },
  {
   "cell_type": "code",
   "execution_count": 277,
   "metadata": {},
   "outputs": [],
   "source": [
    "import pandas as pd\n",
    "import numpy as np\n",
    "#justincase"
   ]
  },
  {
   "cell_type": "markdown",
   "metadata": {},
   "source": [
    "## Read in the file `craftcans.csv`, and look at the first first rows"
   ]
  },
  {
   "cell_type": "code",
   "execution_count": 282,
   "metadata": {},
   "outputs": [],
   "source": [
    "df = pd.read_csv(\"craftcans.csv\", na_values=\"Does not apply\")"
   ]
  },
  {
   "cell_type": "markdown",
   "metadata": {},
   "source": [
    "## How many rows do you have in the data? What are the column types?"
   ]
  },
  {
   "cell_type": "code",
   "execution_count": 283,
   "metadata": {},
   "outputs": [
    {
     "name": "stdout",
     "output_type": "stream",
     "text": [
      "<class 'pandas.core.frame.DataFrame'>\n",
      "RangeIndex: 2416 entries, 0 to 2415\n",
      "Data columns (total 7 columns):\n",
      " #   Column    Non-Null Count  Dtype  \n",
      "---  ------    --------------  -----  \n",
      " 0   Beer      2416 non-null   object \n",
      " 1   Brewery   2410 non-null   object \n",
      " 2   Location  2410 non-null   object \n",
      " 3   Style     2405 non-null   object \n",
      " 4   Size      2410 non-null   object \n",
      " 5   ABV       2348 non-null   object \n",
      " 6   IBUs      1405 non-null   float64\n",
      "dtypes: float64(1), object(6)\n",
      "memory usage: 132.2+ KB\n"
     ]
    }
   ],
   "source": [
    "df.info()"
   ]
  },
  {
   "cell_type": "code",
   "execution_count": 284,
   "metadata": {},
   "outputs": [],
   "source": [
    "#df"
   ]
  },
  {
   "cell_type": "markdown",
   "metadata": {},
   "source": [
    "# Checking out our alcohol"
   ]
  },
  {
   "cell_type": "markdown",
   "metadata": {},
   "source": [
    "## What are the top 10 producers of cans of beer?"
   ]
  },
  {
   "cell_type": "code",
   "execution_count": 259,
   "metadata": {},
   "outputs": [
    {
     "data": {
      "text/plain": [
       "Brewery Vivant                62\n",
       "Oskar Blues Brewery           46\n",
       "Sun King Brewing Company      38\n",
       "Cigar City Brewing Company    25\n",
       "Sixpoint Craft Ales           24\n",
       "Hopworks Urban Brewery        23\n",
       "Stevens Point Brewery         22\n",
       "Great Crescent Brewery        20\n",
       "21st Amendment Brewery        20\n",
       "Bonfire Brewing Company       19\n",
       "Name: Brewery, dtype: int64"
      ]
     },
     "execution_count": 259,
     "metadata": {},
     "output_type": "execute_result"
    }
   ],
   "source": [
    "df.Brewery.value_counts().head(10)"
   ]
  },
  {
   "cell_type": "markdown",
   "metadata": {},
   "source": [
    "## What is the most common ABV? (alcohol by volume)"
   ]
  },
  {
   "cell_type": "code",
   "execution_count": 260,
   "metadata": {},
   "outputs": [
    {
     "data": {
      "text/plain": [
       "5.00%    215\n",
       "Name: ABV, dtype: int64"
      ]
     },
     "execution_count": 260,
     "metadata": {},
     "output_type": "execute_result"
    }
   ],
   "source": [
    "df.ABV.value_counts().head(1)"
   ]
  },
  {
   "cell_type": "markdown",
   "metadata": {},
   "source": [
    "## Oh, weird, ABV isn't a number. Convert it to a number for me, please.\n",
    "\n",
    "It's going to take a few steps!\n",
    "\n",
    "### First, let's just look at the ABV column by itself"
   ]
  },
  {
   "cell_type": "code",
   "execution_count": 261,
   "metadata": {},
   "outputs": [
    {
     "data": {
      "text/plain": [
       "0       4.50%\n",
       "1       4.90%\n",
       "2       4.80%\n",
       "3       6.00%\n",
       "4       6.00%\n",
       "        ...  \n",
       "2411    5.30%\n",
       "2412    9.90%\n",
       "2413    8.00%\n",
       "2414    8.70%\n",
       "2415    6.50%\n",
       "Name: ABV, Length: 2416, dtype: object"
      ]
     },
     "execution_count": 261,
     "metadata": {},
     "output_type": "execute_result"
    }
   ],
   "source": [
    "df.ABV"
   ]
  },
  {
   "cell_type": "markdown",
   "metadata": {},
   "source": [
    "### Hm, `%` isn't part of  a number. Let's remove it.\n",
    "\n",
    "When you're confident you got it right, save the results back into the `ABV` column.\n",
    "\n",
    "- *Tip: In programming the easiest way to remove something is to *replacing it with nothing*.\n",
    "- *Tip: \"nothing\" might seem like `NaN` sinc we talked about it a lot in class, but in this case it isn't! It's just an empty string, like \"\"*\n",
    "- *Tip: `.replace` is usually used for replacing ENTIRE cells, while `.str.replace` is useful for replacing PARTS of cells*"
   ]
  },
  {
   "cell_type": "code",
   "execution_count": 262,
   "metadata": {},
   "outputs": [],
   "source": [
    "df.ABV = df.ABV.str.replace('%', \"\")"
   ]
  },
  {
   "cell_type": "markdown",
   "metadata": {},
   "source": [
    "### Now let's turn `ABV` into a numeric data type\n",
    "\n",
    "Save the results back into the `ABV` column (again), and then check `df.dtypes` to make sure it worked.\n",
    "\n",
    "- *Tip: We used `.astype(int)` during class, but this has a decimal in it...*"
   ]
  },
  {
   "cell_type": "code",
   "execution_count": 263,
   "metadata": {},
   "outputs": [],
   "source": [
    "df.ABV = df.ABV.astype(float)"
   ]
  },
  {
   "cell_type": "markdown",
   "metadata": {},
   "source": [
    "## What's the ABV of the average beer look like?\n",
    "\n",
    "### Show me in two different ways: one command to show the `median`/`mean`/etc, and secondly show me a chart"
   ]
  },
  {
   "cell_type": "code",
   "execution_count": 264,
   "metadata": {},
   "outputs": [
    {
     "data": {
      "text/plain": [
       "5.6"
      ]
     },
     "execution_count": 264,
     "metadata": {},
     "output_type": "execute_result"
    }
   ],
   "source": [
    "df.ABV.mean()\n",
    "df.ABV.median()"
   ]
  },
  {
   "cell_type": "code",
   "execution_count": 265,
   "metadata": {},
   "outputs": [
    {
     "data": {
      "text/plain": [
       "<AxesSubplot:>"
      ]
     },
     "execution_count": 265,
     "metadata": {},
     "output_type": "execute_result"
    },
    {
     "data": {
      "image/png": "[encoded data removed]",
      "text/plain": [
       "<Figure size 432x288 with 1 Axes>"
      ]
     },
     "metadata": {
      "needs_background": "light"
     },
     "output_type": "display_data"
    }
   ],
   "source": [
    "df.ABV.hist()"
   ]
  },
  {
   "cell_type": "markdown",
   "metadata": {},
   "source": [
    "### We don't have ABV for all of the beers, how many are we missing them from?\n",
    "\n",
    "- *Tip: You can use `isna()` or `notna()` to see where a column is missing/not missing data.*\n",
    "- *Tip: You just want to count how many `True`s and `False`s there are.*\n",
    "- *Tip: It's a weird trick involving something we usually use to count things in a column*"
   ]
  },
  {
   "cell_type": "code",
   "execution_count": 266,
   "metadata": {},
   "outputs": [
    {
     "data": {
      "text/plain": [
       "False    2348\n",
       "True       68\n",
       "Name: ABV, dtype: int64"
      ]
     },
     "execution_count": 266,
     "metadata": {},
     "output_type": "execute_result"
    }
   ],
   "source": [
    "df.ABV.isna().value_counts()"
   ]
  },
  {
   "cell_type": "markdown",
   "metadata": {},
   "source": [
    "# Looking at location\n",
    "\n",
    "Brooklyn used to produce 80% of the country's beer! Let's see if it's still true."
   ]
  },
  {
   "cell_type": "markdown",
   "metadata": {},
   "source": [
    "## What are the top 10 cities in the US for canned craft beer?"
   ]
  },
  {
   "cell_type": "code",
   "execution_count": 267,
   "metadata": {},
   "outputs": [
    {
     "data": {
      "text/plain": [
       "Grand Rapids, MI    66\n",
       "Chicago, IL         55\n",
       "Portland, OR        52\n",
       "Indianapolis, IN    43\n",
       "San Diego, CA       42\n",
       "Boulder, CO         41\n",
       "Denver, CO          40\n",
       "Brooklyn, NY        38\n",
       "Seattle, WA         35\n",
       "Longmont, CO        33\n",
       "Name: Location, dtype: int64"
      ]
     },
     "execution_count": 267,
     "metadata": {},
     "output_type": "execute_result"
    }
   ],
   "source": [
    "df.Location.value_counts().head(10)"
   ]
  },
  {
   "cell_type": "markdown",
   "metadata": {},
   "source": [
    "## List all of the beer from Brooklyn, NY"
   ]
  },
  {
   "cell_type": "code",
   "execution_count": 268,
   "metadata": {},
   "outputs": [
    {
     "data": {
      "text/html": [
       "<div>\n",
       "<style scoped>\n",
       "    .dataframe tbody tr th:only-of-type {\n",
       "        vertical-align: middle;\n",
       "    }\n",
       "\n",
       "    .dataframe tbody tr th {\n",
       "        vertical-align: top;\n",
       "    }\n",
       "\n",
       "    .dataframe thead th {\n",
       "        text-align: right;\n",
       "    }\n",
       "</style>\n",
       "<table border=\"1\" class=\"dataframe\">\n",
       "  <thead>\n",
       "    <tr style=\"text-align: right;\">\n",
       "      <th></th>\n",
       "      <th>Beer</th>\n",
       "      <th>Brewery</th>\n",
       "      <th>Location</th>\n",
       "      <th>Style</th>\n",
       "      <th>Size</th>\n",
       "      <th>ABV</th>\n",
       "      <th>IBUs</th>\n",
       "    </tr>\n",
       "  </thead>\n",
       "  <tbody>\n",
       "    <tr>\n",
       "      <th>115</th>\n",
       "      <td>4Beans</td>\n",
       "      <td>Sixpoint Craft Ales</td>\n",
       "      <td>Brooklyn, NY</td>\n",
       "      <td>Baltic Porter</td>\n",
       "      <td>12 oz.</td>\n",
       "      <td>10.0</td>\n",
       "      <td>52.0</td>\n",
       "    </tr>\n",
       "    <tr>\n",
       "      <th>210</th>\n",
       "      <td>Jammer</td>\n",
       "      <td>Sixpoint Craft Ales</td>\n",
       "      <td>Brooklyn, NY</td>\n",
       "      <td>Gose</td>\n",
       "      <td>12 oz. Slimline</td>\n",
       "      <td>4.2</td>\n",
       "      <td>16.0</td>\n",
       "    </tr>\n",
       "    <tr>\n",
       "      <th>246</th>\n",
       "      <td>Abigale</td>\n",
       "      <td>Sixpoint Craft Ales</td>\n",
       "      <td>Brooklyn, NY</td>\n",
       "      <td>Belgian Pale Ale</td>\n",
       "      <td>12 oz.</td>\n",
       "      <td>8.0</td>\n",
       "      <td>NaN</td>\n",
       "    </tr>\n",
       "    <tr>\n",
       "      <th>404</th>\n",
       "      <td>Nomader Weiss</td>\n",
       "      <td>Evil Twin Brewing</td>\n",
       "      <td>Brooklyn, NY</td>\n",
       "      <td>Berliner Weissbier</td>\n",
       "      <td>12 oz.</td>\n",
       "      <td>4.0</td>\n",
       "      <td>NaN</td>\n",
       "    </tr>\n",
       "    <tr>\n",
       "      <th>421</th>\n",
       "      <td>Rad</td>\n",
       "      <td>Sixpoint Craft Ales</td>\n",
       "      <td>Brooklyn, NY</td>\n",
       "      <td>Fruit / Vegetable Beer</td>\n",
       "      <td>16 oz.</td>\n",
       "      <td>3.2</td>\n",
       "      <td>7.0</td>\n",
       "    </tr>\n",
       "    <tr>\n",
       "      <th>439</th>\n",
       "      <td>Molotov Lite</td>\n",
       "      <td>Evil Twin Brewing</td>\n",
       "      <td>Brooklyn, NY</td>\n",
       "      <td>American Double / Imperial IPA</td>\n",
       "      <td>16 oz.</td>\n",
       "      <td>8.5</td>\n",
       "      <td>NaN</td>\n",
       "    </tr>\n",
       "    <tr>\n",
       "      <th>588</th>\n",
       "      <td>Bengali</td>\n",
       "      <td>Sixpoint Craft Ales</td>\n",
       "      <td>Brooklyn, NY</td>\n",
       "      <td>American IPA</td>\n",
       "      <td>24 oz. \"Silo Can\"</td>\n",
       "      <td>6.5</td>\n",
       "      <td>62.0</td>\n",
       "    </tr>\n",
       "    <tr>\n",
       "      <th>713</th>\n",
       "      <td>Sensi Harvest</td>\n",
       "      <td>Sixpoint Craft Ales</td>\n",
       "      <td>Brooklyn, NY</td>\n",
       "      <td>American Pale Ale (APA)</td>\n",
       "      <td>12 oz.</td>\n",
       "      <td>4.7</td>\n",
       "      <td>50.0</td>\n",
       "    </tr>\n",
       "    <tr>\n",
       "      <th>969</th>\n",
       "      <td>Hi-Res</td>\n",
       "      <td>Sixpoint Craft Ales</td>\n",
       "      <td>Brooklyn, NY</td>\n",
       "      <td>American Double / Imperial IPA</td>\n",
       "      <td>12 oz.</td>\n",
       "      <td>9.9</td>\n",
       "      <td>111.0</td>\n",
       "    </tr>\n",
       "    <tr>\n",
       "      <th>987</th>\n",
       "      <td>KelSo Nut Brown Lager</td>\n",
       "      <td>KelSo Beer Company</td>\n",
       "      <td>Brooklyn, NY</td>\n",
       "      <td>Euro Dark Lager</td>\n",
       "      <td>12 oz.</td>\n",
       "      <td>5.7</td>\n",
       "      <td>19.0</td>\n",
       "    </tr>\n",
       "    <tr>\n",
       "      <th>1057</th>\n",
       "      <td>Global Warmer</td>\n",
       "      <td>Sixpoint Craft Ales</td>\n",
       "      <td>Brooklyn, NY</td>\n",
       "      <td>American Strong Ale</td>\n",
       "      <td>12 oz.</td>\n",
       "      <td>7.0</td>\n",
       "      <td>70.0</td>\n",
       "    </tr>\n",
       "    <tr>\n",
       "      <th>1074</th>\n",
       "      <td>Autumnation (2013)</td>\n",
       "      <td>Sixpoint Craft Ales</td>\n",
       "      <td>Brooklyn, NY</td>\n",
       "      <td>American IPA</td>\n",
       "      <td>16 oz.</td>\n",
       "      <td>6.7</td>\n",
       "      <td>74.0</td>\n",
       "    </tr>\n",
       "    <tr>\n",
       "      <th>1093</th>\n",
       "      <td>KelSo India Pale Ale</td>\n",
       "      <td>KelSo Beer Company</td>\n",
       "      <td>Brooklyn, NY</td>\n",
       "      <td>American IPA</td>\n",
       "      <td>12 oz.</td>\n",
       "      <td>6.0</td>\n",
       "      <td>64.0</td>\n",
       "    </tr>\n",
       "    <tr>\n",
       "      <th>1267</th>\n",
       "      <td>The Crisp</td>\n",
       "      <td>Sixpoint Craft Ales</td>\n",
       "      <td>Brooklyn, NY</td>\n",
       "      <td>German Pilsener</td>\n",
       "      <td>16 oz.</td>\n",
       "      <td>5.4</td>\n",
       "      <td>42.0</td>\n",
       "    </tr>\n",
       "    <tr>\n",
       "      <th>1268</th>\n",
       "      <td>Sweet Action</td>\n",
       "      <td>Sixpoint Craft Ales</td>\n",
       "      <td>Brooklyn, NY</td>\n",
       "      <td>Cream Ale</td>\n",
       "      <td>16 oz.</td>\n",
       "      <td>5.2</td>\n",
       "      <td>34.0</td>\n",
       "    </tr>\n",
       "    <tr>\n",
       "      <th>1269</th>\n",
       "      <td>Righteous Ale</td>\n",
       "      <td>Sixpoint Craft Ales</td>\n",
       "      <td>Brooklyn, NY</td>\n",
       "      <td>Rye Beer</td>\n",
       "      <td>16 oz.</td>\n",
       "      <td>6.3</td>\n",
       "      <td>57.0</td>\n",
       "    </tr>\n",
       "    <tr>\n",
       "      <th>1270</th>\n",
       "      <td>Bengali Tiger</td>\n",
       "      <td>Sixpoint Craft Ales</td>\n",
       "      <td>Brooklyn, NY</td>\n",
       "      <td>American IPA</td>\n",
       "      <td>16 oz.</td>\n",
       "      <td>6.4</td>\n",
       "      <td>62.0</td>\n",
       "    </tr>\n",
       "    <tr>\n",
       "      <th>1305</th>\n",
       "      <td>KelSo Pilsner</td>\n",
       "      <td>KelSo Beer Company</td>\n",
       "      <td>Brooklyn, NY</td>\n",
       "      <td>Czech Pilsener</td>\n",
       "      <td>12 oz.</td>\n",
       "      <td>5.5</td>\n",
       "      <td>23.0</td>\n",
       "    </tr>\n",
       "    <tr>\n",
       "      <th>1365</th>\n",
       "      <td>Hipster Ale (Two Roads Brewing)</td>\n",
       "      <td>Evil Twin Brewing</td>\n",
       "      <td>Brooklyn, NY</td>\n",
       "      <td>American Pale Ale (APA)</td>\n",
       "      <td>12 oz.</td>\n",
       "      <td>5.5</td>\n",
       "      <td>NaN</td>\n",
       "    </tr>\n",
       "    <tr>\n",
       "      <th>1366</th>\n",
       "      <td>Bikini Beer</td>\n",
       "      <td>Evil Twin Brewing</td>\n",
       "      <td>Brooklyn, NY</td>\n",
       "      <td>American IPA</td>\n",
       "      <td>12 oz.</td>\n",
       "      <td>2.7</td>\n",
       "      <td>NaN</td>\n",
       "    </tr>\n",
       "    <tr>\n",
       "      <th>1373</th>\n",
       "      <td>East India Pale Ale</td>\n",
       "      <td>Brooklyn Brewery</td>\n",
       "      <td>Brooklyn, NY</td>\n",
       "      <td>English India Pale Ale (IPA)</td>\n",
       "      <td>16 oz.</td>\n",
       "      <td>6.8</td>\n",
       "      <td>47.0</td>\n",
       "    </tr>\n",
       "    <tr>\n",
       "      <th>1624</th>\n",
       "      <td>3Beans</td>\n",
       "      <td>Sixpoint Craft Ales</td>\n",
       "      <td>Brooklyn, NY</td>\n",
       "      <td>Baltic Porter</td>\n",
       "      <td>12 oz.</td>\n",
       "      <td>9.9</td>\n",
       "      <td>85.0</td>\n",
       "    </tr>\n",
       "    <tr>\n",
       "      <th>1836</th>\n",
       "      <td>Brownstone</td>\n",
       "      <td>Sixpoint Craft Ales</td>\n",
       "      <td>Brooklyn, NY</td>\n",
       "      <td>American Brown Ale</td>\n",
       "      <td>16 oz.</td>\n",
       "      <td>5.9</td>\n",
       "      <td>47.0</td>\n",
       "    </tr>\n",
       "    <tr>\n",
       "      <th>1857</th>\n",
       "      <td>Brooklyn Summer Ale</td>\n",
       "      <td>Brooklyn Brewery</td>\n",
       "      <td>Brooklyn, NY</td>\n",
       "      <td>English Pale Mild Ale</td>\n",
       "      <td>12 oz.</td>\n",
       "      <td>4.5</td>\n",
       "      <td>NaN</td>\n",
       "    </tr>\n",
       "    <tr>\n",
       "      <th>1962</th>\n",
       "      <td>Hipster Ale (Westbrook Brewing)</td>\n",
       "      <td>Evil Twin Brewing</td>\n",
       "      <td>Brooklyn, NY</td>\n",
       "      <td>American Pale Ale (APA)</td>\n",
       "      <td>12 oz.</td>\n",
       "      <td>5.5</td>\n",
       "      <td>NaN</td>\n",
       "    </tr>\n",
       "    <tr>\n",
       "      <th>1970</th>\n",
       "      <td>Apollo</td>\n",
       "      <td>Sixpoint Craft Ales</td>\n",
       "      <td>Brooklyn, NY</td>\n",
       "      <td>American Pale Wheat Ale</td>\n",
       "      <td>16 oz.</td>\n",
       "      <td>5.2</td>\n",
       "      <td>11.0</td>\n",
       "    </tr>\n",
       "    <tr>\n",
       "      <th>1971</th>\n",
       "      <td>Harbinger</td>\n",
       "      <td>Sixpoint Craft Ales</td>\n",
       "      <td>Brooklyn, NY</td>\n",
       "      <td>Saison / Farmhouse Ale</td>\n",
       "      <td>16 oz.</td>\n",
       "      <td>4.9</td>\n",
       "      <td>35.0</td>\n",
       "    </tr>\n",
       "    <tr>\n",
       "      <th>1972</th>\n",
       "      <td>Resin</td>\n",
       "      <td>Sixpoint Craft Ales</td>\n",
       "      <td>Brooklyn, NY</td>\n",
       "      <td>American Double / Imperial IPA</td>\n",
       "      <td>12 oz.</td>\n",
       "      <td>9.1</td>\n",
       "      <td>103.0</td>\n",
       "    </tr>\n",
       "    <tr>\n",
       "      <th>2027</th>\n",
       "      <td>East India Pale Ale</td>\n",
       "      <td>Brooklyn Brewery</td>\n",
       "      <td>Brooklyn, NY</td>\n",
       "      <td>English India Pale Ale (IPA)</td>\n",
       "      <td>12 oz.</td>\n",
       "      <td>6.8</td>\n",
       "      <td>47.0</td>\n",
       "    </tr>\n",
       "    <tr>\n",
       "      <th>2062</th>\n",
       "      <td>Diesel</td>\n",
       "      <td>Sixpoint Craft Ales</td>\n",
       "      <td>Brooklyn, NY</td>\n",
       "      <td>American Stout</td>\n",
       "      <td>16 oz.</td>\n",
       "      <td>6.3</td>\n",
       "      <td>69.0</td>\n",
       "    </tr>\n",
       "    <tr>\n",
       "      <th>2074</th>\n",
       "      <td>Autumnation (2011-12) (2011)</td>\n",
       "      <td>Sixpoint Craft Ales</td>\n",
       "      <td>Brooklyn, NY</td>\n",
       "      <td>Pumpkin Ale</td>\n",
       "      <td>16 oz.</td>\n",
       "      <td>6.0</td>\n",
       "      <td>48.0</td>\n",
       "    </tr>\n",
       "    <tr>\n",
       "      <th>2140</th>\n",
       "      <td>The Crisp (2011)</td>\n",
       "      <td>Sixpoint Craft Ales</td>\n",
       "      <td>Brooklyn, NY</td>\n",
       "      <td>German Pilsener</td>\n",
       "      <td>16 oz.</td>\n",
       "      <td>5.4</td>\n",
       "      <td>42.0</td>\n",
       "    </tr>\n",
       "    <tr>\n",
       "      <th>2141</th>\n",
       "      <td>Sweet Action (2011)</td>\n",
       "      <td>Sixpoint Craft Ales</td>\n",
       "      <td>Brooklyn, NY</td>\n",
       "      <td>Cream Ale</td>\n",
       "      <td>16 oz.</td>\n",
       "      <td>5.2</td>\n",
       "      <td>34.0</td>\n",
       "    </tr>\n",
       "    <tr>\n",
       "      <th>2142</th>\n",
       "      <td>Righteous Ale (2011)</td>\n",
       "      <td>Sixpoint Craft Ales</td>\n",
       "      <td>Brooklyn, NY</td>\n",
       "      <td>Rye Beer</td>\n",
       "      <td>16 oz.</td>\n",
       "      <td>6.3</td>\n",
       "      <td>57.0</td>\n",
       "    </tr>\n",
       "    <tr>\n",
       "      <th>2143</th>\n",
       "      <td>Bengali Tiger (2011)</td>\n",
       "      <td>Sixpoint Craft Ales</td>\n",
       "      <td>Brooklyn, NY</td>\n",
       "      <td>American IPA</td>\n",
       "      <td>16 oz.</td>\n",
       "      <td>6.4</td>\n",
       "      <td>62.0</td>\n",
       "    </tr>\n",
       "    <tr>\n",
       "      <th>2219</th>\n",
       "      <td>Brooklyn Summer Ale (2011)</td>\n",
       "      <td>Brooklyn Brewery</td>\n",
       "      <td>Brooklyn, NY</td>\n",
       "      <td>English Pale Mild Ale</td>\n",
       "      <td>12 oz.</td>\n",
       "      <td>4.5</td>\n",
       "      <td>NaN</td>\n",
       "    </tr>\n",
       "    <tr>\n",
       "      <th>2350</th>\n",
       "      <td>Brooklyn Lager (16 oz.)</td>\n",
       "      <td>Brooklyn Brewery</td>\n",
       "      <td>Brooklyn, NY</td>\n",
       "      <td>American Amber / Red Lager</td>\n",
       "      <td>16 oz.</td>\n",
       "      <td>5.2</td>\n",
       "      <td>NaN</td>\n",
       "    </tr>\n",
       "    <tr>\n",
       "      <th>2351</th>\n",
       "      <td>Brooklyn Lager (12 oz.)</td>\n",
       "      <td>Brooklyn Brewery</td>\n",
       "      <td>Brooklyn, NY</td>\n",
       "      <td>American Amber / Red Lager</td>\n",
       "      <td>12 oz.</td>\n",
       "      <td>5.2</td>\n",
       "      <td>NaN</td>\n",
       "    </tr>\n",
       "  </tbody>\n",
       "</table>\n",
       "</div>"
      ],
      "text/plain": [
       "                                 Beer              Brewery      Location  \\\n",
       "115                            4Beans  Sixpoint Craft Ales  Brooklyn, NY   \n",
       "210                            Jammer  Sixpoint Craft Ales  Brooklyn, NY   \n",
       "246                           Abigale  Sixpoint Craft Ales  Brooklyn, NY   \n",
       "404                     Nomader Weiss    Evil Twin Brewing  Brooklyn, NY   \n",
       "421                               Rad  Sixpoint Craft Ales  Brooklyn, NY   \n",
       "439                      Molotov Lite    Evil Twin Brewing  Brooklyn, NY   \n",
       "588                           Bengali  Sixpoint Craft Ales  Brooklyn, NY   \n",
       "713                     Sensi Harvest  Sixpoint Craft Ales  Brooklyn, NY   \n",
       "969                            Hi-Res  Sixpoint Craft Ales  Brooklyn, NY   \n",
       "987             KelSo Nut Brown Lager   KelSo Beer Company  Brooklyn, NY   \n",
       "1057                    Global Warmer  Sixpoint Craft Ales  Brooklyn, NY   \n",
       "1074               Autumnation (2013)  Sixpoint Craft Ales  Brooklyn, NY   \n",
       "1093             KelSo India Pale Ale   KelSo Beer Company  Brooklyn, NY   \n",
       "1267                        The Crisp  Sixpoint Craft Ales  Brooklyn, NY   \n",
       "1268                     Sweet Action  Sixpoint Craft Ales  Brooklyn, NY   \n",
       "1269                    Righteous Ale  Sixpoint Craft Ales  Brooklyn, NY   \n",
       "1270                    Bengali Tiger  Sixpoint Craft Ales  Brooklyn, NY   \n",
       "1305                    KelSo Pilsner   KelSo Beer Company  Brooklyn, NY   \n",
       "1365  Hipster Ale (Two Roads Brewing)    Evil Twin Brewing  Brooklyn, NY   \n",
       "1366                      Bikini Beer    Evil Twin Brewing  Brooklyn, NY   \n",
       "1373              East India Pale Ale     Brooklyn Brewery  Brooklyn, NY   \n",
       "1624                           3Beans  Sixpoint Craft Ales  Brooklyn, NY   \n",
       "1836                       Brownstone  Sixpoint Craft Ales  Brooklyn, NY   \n",
       "1857              Brooklyn Summer Ale     Brooklyn Brewery  Brooklyn, NY   \n",
       "1962  Hipster Ale (Westbrook Brewing)    Evil Twin Brewing  Brooklyn, NY   \n",
       "1970                           Apollo  Sixpoint Craft Ales  Brooklyn, NY   \n",
       "1971                        Harbinger  Sixpoint Craft Ales  Brooklyn, NY   \n",
       "1972                            Resin  Sixpoint Craft Ales  Brooklyn, NY   \n",
       "2027              East India Pale Ale     Brooklyn Brewery  Brooklyn, NY   \n",
       "2062                           Diesel  Sixpoint Craft Ales  Brooklyn, NY   \n",
       "2074     Autumnation (2011-12) (2011)  Sixpoint Craft Ales  Brooklyn, NY   \n",
       "2140                 The Crisp (2011)  Sixpoint Craft Ales  Brooklyn, NY   \n",
       "2141              Sweet Action (2011)  Sixpoint Craft Ales  Brooklyn, NY   \n",
       "2142             Righteous Ale (2011)  Sixpoint Craft Ales  Brooklyn, NY   \n",
       "2143             Bengali Tiger (2011)  Sixpoint Craft Ales  Brooklyn, NY   \n",
       "2219       Brooklyn Summer Ale (2011)     Brooklyn Brewery  Brooklyn, NY   \n",
       "2350          Brooklyn Lager (16 oz.)     Brooklyn Brewery  Brooklyn, NY   \n",
       "2351          Brooklyn Lager (12 oz.)     Brooklyn Brewery  Brooklyn, NY   \n",
       "\n",
       "                               Style               Size   ABV   IBUs  \n",
       "115                    Baltic Porter             12 oz.  10.0   52.0  \n",
       "210                             Gose    12 oz. Slimline   4.2   16.0  \n",
       "246                 Belgian Pale Ale             12 oz.   8.0    NaN  \n",
       "404               Berliner Weissbier             12 oz.   4.0    NaN  \n",
       "421           Fruit / Vegetable Beer             16 oz.   3.2    7.0  \n",
       "439   American Double / Imperial IPA             16 oz.   8.5    NaN  \n",
       "588                     American IPA  24 oz. \"Silo Can\"   6.5   62.0  \n",
       "713          American Pale Ale (APA)             12 oz.   4.7   50.0  \n",
       "969   American Double / Imperial IPA             12 oz.   9.9  111.0  \n",
       "987                  Euro Dark Lager             12 oz.   5.7   19.0  \n",
       "1057             American Strong Ale             12 oz.   7.0   70.0  \n",
       "1074                    American IPA             16 oz.   6.7   74.0  \n",
       "1093                    American IPA             12 oz.   6.0   64.0  \n",
       "1267                 German Pilsener             16 oz.   5.4   42.0  \n",
       "1268                       Cream Ale             16 oz.   5.2   34.0  \n",
       "1269                        Rye Beer             16 oz.   6.3   57.0  \n",
       "1270                    American IPA             16 oz.   6.4   62.0  \n",
       "1305                  Czech Pilsener             12 oz.   5.5   23.0  \n",
       "1365         American Pale Ale (APA)             12 oz.   5.5    NaN  \n",
       "1366                    American IPA             12 oz.   2.7    NaN  \n",
       "1373    English India Pale Ale (IPA)             16 oz.   6.8   47.0  \n",
       "1624                   Baltic Porter             12 oz.   9.9   85.0  \n",
       "1836              American Brown Ale             16 oz.   5.9   47.0  \n",
       "1857           English Pale Mild Ale             12 oz.   4.5    NaN  \n",
       "1962         American Pale Ale (APA)             12 oz.   5.5    NaN  \n",
       "1970         American Pale Wheat Ale             16 oz.   5.2   11.0  \n",
       "1971          Saison / Farmhouse Ale             16 oz.   4.9   35.0  \n",
       "1972  American Double / Imperial IPA             12 oz.   9.1  103.0  \n",
       "2027    English India Pale Ale (IPA)             12 oz.   6.8   47.0  \n",
       "2062                  American Stout             16 oz.   6.3   69.0  \n",
       "2074                     Pumpkin Ale             16 oz.   6.0   48.0  \n",
       "2140                 German Pilsener             16 oz.   5.4   42.0  \n",
       "2141                       Cream Ale             16 oz.   5.2   34.0  \n",
       "2142                        Rye Beer             16 oz.   6.3   57.0  \n",
       "2143                    American IPA             16 oz.   6.4   62.0  \n",
       "2219           English Pale Mild Ale             12 oz.   4.5    NaN  \n",
       "2350      American Amber / Red Lager             16 oz.   5.2    NaN  \n",
       "2351      American Amber / Red Lager             12 oz.   5.2    NaN  "
      ]
     },
     "execution_count": 268,
     "metadata": {},
     "output_type": "execute_result"
    }
   ],
   "source": [
    "df.query('Location == \"Brooklyn, NY\"') "
   ]
  },
  {
   "cell_type": "markdown",
   "metadata": {},
   "source": [
    "## What brewery in Brooklyn puts out the most types of canned beer?"
   ]
  },
  {
   "cell_type": "code",
   "execution_count": 269,
   "metadata": {},
   "outputs": [
    {
     "data": {
      "text/plain": [
       "Sixpoint Craft Ales    24\n",
       "Brooklyn Brewery        6\n",
       "Evil Twin Brewing       5\n",
       "KelSo Beer Company      3\n",
       "Name: Brewery, dtype: int64"
      ]
     },
     "execution_count": 269,
     "metadata": {},
     "output_type": "execute_result"
    }
   ],
   "source": [
    "df.query('Location == \"Brooklyn, NY\"').Brewery.value_counts()"
   ]
  },
  {
   "cell_type": "markdown",
   "metadata": {},
   "source": [
    "## What are the five styles of beer that Sixpoint produces the most cans of?"
   ]
  },
  {
   "cell_type": "code",
   "execution_count": 270,
   "metadata": {},
   "outputs": [
    {
     "data": {
      "text/plain": [
       "American IPA                      4\n",
       "Baltic Porter                     2\n",
       "American Double / Imperial IPA    2\n",
       "German Pilsener                   2\n",
       "Cream Ale                         2\n",
       "Name: Style, dtype: int64"
      ]
     },
     "execution_count": 270,
     "metadata": {},
     "output_type": "execute_result"
    }
   ],
   "source": [
    "df.query('Location == \"Brooklyn, NY\" & Brewery == \"Sixpoint Craft Ales\"').Style.value_counts().head(5)"
   ]
  },
  {
   "cell_type": "markdown",
   "metadata": {},
   "source": [
    "## List all of the breweries in New York state.\n",
    "\n",
    "- *Tip: We want to match **part** of the `Location` column, but not all of it.*\n",
    "- *Tip: Watch out for `NaN` values! You might be close, but you'll need to pass an extra parameter to make it work without an error.*"
   ]
  },
  {
   "cell_type": "code",
   "execution_count": 271,
   "metadata": {},
   "outputs": [
    {
     "data": {
      "text/plain": [
       "Sixpoint Craft Ales              24\n",
       "Matt Brewing Company             13\n",
       "Brooklyn Brewery                  6\n",
       "Evil Twin Brewing                 5\n",
       "Blue Point Brewing Company        4\n",
       "Butternuts Beer and Ale           4\n",
       "The Bronx Brewery                 3\n",
       "KelSo Beer Company                3\n",
       "Chatham Brewing                   2\n",
       "Montauk Brewing Company           2\n",
       "Bomb Beer Company                 2\n",
       "Upstate Brewing Company           2\n",
       "Newburgh Brewing Company          1\n",
       "Southampton Publick House         1\n",
       "The Manhattan Brewing Company     1\n",
       "Dundee Brewing Company            1\n",
       "Name: Brewery, dtype: int64"
      ]
     },
     "execution_count": 271,
     "metadata": {},
     "output_type": "execute_result"
    }
   ],
   "source": [
    "ny_df = df[df.Location.str.contains(\" *.NY\", na=False)]\n",
    "ny_df.Brewery.value_counts()"
   ]
  },
  {
   "cell_type": "markdown",
   "metadata": {},
   "source": [
    "### Now *count* all of the breweries in New York state"
   ]
  },
  {
   "cell_type": "code",
   "execution_count": 272,
   "metadata": {},
   "outputs": [
    {
     "data": {
      "text/plain": [
       "16"
      ]
     },
     "execution_count": 272,
     "metadata": {},
     "output_type": "execute_result"
    }
   ],
   "source": [
    "ny_df.Brewery.nunique()"
   ]
  },
  {
   "cell_type": "markdown",
   "metadata": {},
   "source": [
    "# Measuring International Bitterness Units\n",
    "\n",
    "## Display all of the IPAs\n",
    "\n",
    "Include American IPAs, Imperial IPAs, and anything else with \"IPA in it.\"\n",
    "\n",
    "IPA stands for [India Pale Ale](https://www.bonappetit.com/story/ipa-beer-styles), and is probably the most popular kind of beer in the US for people who are drinking [craft beer](https://www.craftbeer.com/beer/what-is-craft-beer)."
   ]
  },
  {
   "cell_type": "code",
   "execution_count": 275,
   "metadata": {},
   "outputs": [
    {
     "data": {
      "text/plain": [
       "American IPA                      424\n",
       "American Double / Imperial IPA    105\n",
       "Belgian IPA                        18\n",
       "English India Pale Ale (IPA)       13\n",
       "American White IPA                 11\n",
       "Name: Style, dtype: int64"
      ]
     },
     "execution_count": 275,
     "metadata": {},
     "output_type": "execute_result"
    }
   ],
   "source": [
    "ipa_df = df[df.Style.str.contains(\" *.IPA\", na=False)]\n",
    "ipa_df.Style.value_counts()"
   ]
  },
  {
   "cell_type": "markdown",
   "metadata": {},
   "source": [
    "IPAs are usually pretty hoppy and bitter (although I guess hazy IPAs and session IPAs are changing that since I first made this homework!). IBU stands for [International Bitterness Unit](http://www.thebrewenthusiast.com/ibus/), and while a lot of places like to brag about having the most bitter beer (it's an American thing!), IBUs don't necessary *mean anything*.\n",
    "\n",
    "Let's look at how different beers have different IBU measurements."
   ]
  },
  {
   "cell_type": "markdown",
   "metadata": {},
   "source": [
    "## Try to get the average IBU measurement across all beers"
   ]
  },
  {
   "cell_type": "code",
   "execution_count": 276,
   "metadata": {},
   "outputs": [
    {
     "data": {
      "text/plain": [
       "42.71316725978647"
      ]
     },
     "execution_count": 276,
     "metadata": {},
     "output_type": "execute_result"
    }
   ],
   "source": [
    "df.IBUs.mean()"
   ]
  },
  {
   "cell_type": "code",
   "execution_count": 274,
   "metadata": {},
   "outputs": [
    {
     "data": {
      "text/plain": [
       "Beer         object\n",
       "Brewery      object\n",
       "Location     object\n",
       "Style        object\n",
       "Size         object\n",
       "ABV         float64\n",
       "IBUs        float64\n",
       "dtype: object"
      ]
     },
     "execution_count": 274,
     "metadata": {},
     "output_type": "execute_result"
    }
   ],
   "source": [
    "df.dtypes"
   ]
  },
  {
   "cell_type": "markdown",
   "metadata": {},
   "source": [
    "### Oh no, it doesn't work!\n",
    "\n",
    "It looks like some of those values *aren't numbers*. There are two ways to fix this:\n",
    "\n",
    "1. Do the `.replace` and `np.nan` thing we did in class. Then convert the column to a number. This is boring.\n",
    "2. When you're reading in your csv, there [is an option called `na_values`](http://pandas.pydata.org/pandas-docs/version/0.23/generated/pandas.read_csv.html). You can give it a list of **numbers or strings to count as `NaN`**. It's a lot easier than doing the `np.nan` thing, although you'll need to go add it up top and run all of your cells again.\n",
    "\n",
    "- *Tip: Make sure you're giving `na_values` a LIST, not just a string*\n",
    "\n",
    "### Now try to get the average IBUs again"
   ]
  },
  {
   "cell_type": "code",
   "execution_count": 117,
   "metadata": {},
   "outputs": [
    {
     "data": {
      "text/plain": [
       "42.71316725978647"
      ]
     },
     "execution_count": 117,
     "metadata": {},
     "output_type": "execute_result"
    }
   ],
   "source": [
    "df.IBUs.mean()"
   ]
  },
  {
   "cell_type": "markdown",
   "metadata": {},
   "source": [
    "## Draw the distribution of IBU measurements, but with *twenty* bins instead of the default of 10\n",
    "\n",
    "- *Tip: Every time I ask for a distribution, I'm looking for a histogram*\n",
    "- *Tip: Use the `?` to get all of the options for building a histogram*"
   ]
  },
  {
   "cell_type": "code",
   "execution_count": 125,
   "metadata": {},
   "outputs": [
    {
     "data": {
      "text/plain": [
       "<AxesSubplot:>"
      ]
     },
     "execution_count": 125,
     "metadata": {},
     "output_type": "execute_result"
    },
    {
     "data": {
      "image/png": "[encoded data removed]",
      "text/plain": [
       "<Figure size 432x288 with 1 Axes>"
      ]
     },
     "metadata": {
      "needs_background": "light"
     },
     "output_type": "display_data"
    }
   ],
   "source": [
    "df.IBUs.hist(bins = 20)"
   ]
  },
  {
   "cell_type": "markdown",
   "metadata": {},
   "source": [
    "## Hm, Interesting distribution. List all of the beers with IBUs above the 75th percentile\n",
    "\n",
    "- *Tip: There's a single that gives you the 25/50/75th percentile*\n",
    "- *Tip: You can just manually type the number when you list those beers*"
   ]
  },
  {
   "cell_type": "code",
   "execution_count": 129,
   "metadata": {},
   "outputs": [
    {
     "data": {
      "text/plain": [
       "count    1405.000000\n",
       "mean       42.713167\n",
       "std        25.954066\n",
       "min         4.000000\n",
       "25%        21.000000\n",
       "50%        35.000000\n",
       "75%        64.000000\n",
       "max       138.000000\n",
       "Name: IBUs, dtype: float64"
      ]
     },
     "execution_count": 129,
     "metadata": {},
     "output_type": "execute_result"
    }
   ],
   "source": [
    "df.IBUs.describe()"
   ]
  },
  {
   "cell_type": "code",
   "execution_count": 140,
   "metadata": {},
   "outputs": [
    {
     "data": {
      "text/plain": [
       "array(['Citra Ass Down', 'London Balling', 'Rico Sauvin', 'Pile of Face',\n",
       "       'Excess IPL', 'Hoponius Union', 'Habitus (2014)', 'Solis',\n",
       "       'Habitus', 'Yeti Imperial Stout',\n",
       "       \"98 Problems (Cuz A Hop Ain't One)\", 'Train Hopper', 'Csar',\n",
       "       'Saucy Intruder', 'The Gadget', 'Gone A-Rye', 'Heavy Lifting',\n",
       "       'Jah Mon', 'Flying Mouse 4', 'Soul Doubt', 'Bimini Twist',\n",
       "       'Long Leaf', 'Double Duckpin', 'Hop A-Peel', 'Wobble',\n",
       "       'Hopkick Dropkick', 'Union Jack', 'India Pale Ale', 'Self Starter',\n",
       "       'Nugget Nectar', 'Mission IPA', 'Bay of Bengal Double IPA (2014)',\n",
       "       'Newport Storm IPA', 'Clean Shave IPA', 'Big Star White IPA',\n",
       "       'Firestarter India Pale Ale', 'Back Bay IPA', '4000 Footer IPA',\n",
       "       'Unchained #18 Hop Silo', 'Harness the Winter', 'Rule G IPA',\n",
       "       'Yellow Wolf Imperial IPA', 'Third Eye Enlightened Pale Ale',\n",
       "       'The Green Room', '2014 IPA Cicada Series',\n",
       "       'Sinister Minister Black IPA', 'O’Malley’s IPA',\n",
       "       'Perpetual Darkness', 'Watershed IPA', 'Hoodoo Voodoo IPA',\n",
       "       'Hopportunity Knocks IPA', 'Mothman Black IPA', 'Homefront IPA',\n",
       "       'The Power of Zeus', 'Salamander Slam', 'Torpedo', 'Ranger IPA',\n",
       "       'Dark Voyage Black IPA (2013)', 'Scarecrow', \"Lil' Helper\",\n",
       "       'Hopworks IPA', 'Worthy IPA', 'Abominable Winter Ale',\n",
       "       'Tsunami IPA', 'Mound Builder IPA', 'Dream Crusher Double IPA',\n",
       "       'City of the Sun', '3:33 Black IPA', 'Booming Rollers', 'Aurora',\n",
       "       'More Cowbell', 'Brutus', '1916 Shore Shiver', 'Arcus IPA',\n",
       "       'Epitome', 'Hop Stalker Fresh Hop IPA', '8 Barrel',\n",
       "       'Dead-Eye DIPA', 'Count Hopula (Vault Series)', 'Dankosaurus',\n",
       "       'Might As Well IPL', \"Captain's Daughter\", 'Infamous IPA',\n",
       "       'Tropicalia', 'Vertex IPA', 'Operation Homefront',\n",
       "       'Wandering Pelican', 'Giant DIPA', 'Fistful Of Hops Red',\n",
       "       'Fistful of Hops Orange', 'Fistful Of Hops Blue',\n",
       "       'Fistful of Hops Green', 'Sky-Five', '077XX', 'Almanac IPA',\n",
       "       'Missile IPA', 'Second Fiddle', 'Let It Ride IPA',\n",
       "       'Bent Hop Golden IPA', 'Groupe G', 'Hill 88 Double IPA',\n",
       "       'Hoperation Overload', 'Hop Freak', 'El Chingon IPA',\n",
       "       'Saint Archer IPA', 'BLAKKR', 'Supergoose IPA', 'IPA & a Half',\n",
       "       'Truth', 'American India Red Ale',\n",
       "       'Squatters Hop Rising Double IPA', 'Quarter Mile Double IPA',\n",
       "       'Hoptopus Double IPA', \"Filthy Hoppin' IPA\", '2020 IPA',\n",
       "       'Golden Ratio IPA', 'Hemlock Double IPA', 'Mississippi Fire Ant',\n",
       "       'Red Cockaded Ale', 'Hop Nosh IPA', 'Big Sky IPA',\n",
       "       'Wolf Among Weeds IPA', 'Be Hoppy IPA', 'Hi-Res',\n",
       "       'Irregardless IPA', 'Squatters Hop Rising Double IPA (2014)',\n",
       "       'The Great Return', 'Troopers Alley IPA', 'Madra Allta',\n",
       "       'Chaotic Double IPA', 'Manzanita IPA', 'King Street IPA',\n",
       "       'Sobek & Set', 'Evo IPA', 'Lucky Day IPA',\n",
       "       'Terrace Hill Double IPA', 'Catch 23', 'Better Weather IPA',\n",
       "       \"Hop Drop 'N Roll IPA\", 'Hop Slayer Double IPA', 'Half Cycle IPA',\n",
       "       'Initial Point India Pale Ale', 'Global Warmer', 'Good Vibes IPA',\n",
       "       'Dagger Falls IPA', 'Autumnation (2013)', '12th Round',\n",
       "       'RoughTail IPA', 'Centennial IPA', 'Double Trunk', 'Batch 69 IPA',\n",
       "       'Farmer Wirtz India Pale Ale', 'Proxima IPA', 'Monkey Fist IPA',\n",
       "       \"G'KNIGHT\", 'Ten Fidy', 'Modus Hoperandi', 'Worthy IPA (2013)',\n",
       "       'Perpetual IPA', 'Country Boy IPA', 'Valkyrie Double IPA',\n",
       "       'Blazing World', 'Pilzilla', 'Falling Down Brown Ale',\n",
       "       'Shipwrecked Double IPA', 'Moirai India Pale Ale',\n",
       "       'Overlord Imperial IPA', \"Dale's Pale Ale\", 'F5 IPA',\n",
       "       'Wood Chipper India Pale Ale', 'Grapefruit Jungle (GFJ)',\n",
       "       'Larry Imperial IPA', \"Mind's Eye PA\", 'Big Eye India Pale Ale',\n",
       "       'Heal the Bay IPA', 'Laughing Dog IPA', 'Cascadian Dark Ale',\n",
       "       'Sanitas Black IPA', 'Elephant Rock IPA', 'Crank Yanker IPA',\n",
       "       'Bourbon Barrel Aged Timmie', 'Alphadelic IPA', 'Habitus IPA',\n",
       "       \"Dreamin' Double IPA\", \"Deviant Dale's IPA\", \"Hop Ottin' IPA\",\n",
       "       'Upslope Imperial India Pale Ale', 'Face Plant IPA',\n",
       "       'Bozone HopZone IPA', 'Nice Rack IPA',\n",
       "       'Old Grogham Imperial India Pale Ale', '5 Day IPA',\n",
       "       'Forest Fire Imperial Smoked Rye', 'Bad Axe Imperial IPA',\n",
       "       'Duluchan India Pale Ale', 'Dodgy Knight Imperial IPA',\n",
       "       'Indian Paintbrush IPA', 'Mutiny IPA', 'Redacted Rye IPA',\n",
       "       'Evolutionary IPA (2012)', \"Old Devil's Tooth\",\n",
       "       'Nebraska India Pale Ale', 'Humidor Series India Pale Ale',\n",
       "       'Jai Alai IPA Aged on White Oak', 'José Martí American Porter',\n",
       "       'Psychopathy', 'Overrated! West Coast Style IPA', 'Heady Topper',\n",
       "       'Descender IPA', 'Hop Notch IPA (2013)', 'Hop Shock IPA',\n",
       "       'Disconnected Red', 'Outlaw IPA', 'Lower De Boom', '3Beans',\n",
       "       'Sculpin IPA', 'Ethos IPA', 'Red Cockaded Ale (2013)',\n",
       "       'Elevation Triple India Pale Ale', 'Watershed IPA (2013)',\n",
       "       'Winterfest', 'Bitter Bitch Imperial IPA', 'Rude Parrot IPA',\n",
       "       'Des Moines IPA', 'Black IPA', 'Topcutter India Pale Ale',\n",
       "       'Twister Creek India Pale Ale', 'Deep Ellum IPA',\n",
       "       'Fascist Pig Ale', \"Frankenlou's IPA\",\n",
       "       'Abominable Winter Ale (2012)', 'Oasis',\n",
       "       'Ex Umbris Rye Imperial Stout', 'Odyssey Imperial IPA',\n",
       "       \"Dale's Pale Ale (10 Year Anniversary)\", 'Hop Abomination',\n",
       "       'Cane and Ebel', 'Interurban IPA', 'PRO-AM (2012) (2012)',\n",
       "       'On the Wings of Armageddon', \"Dale's Pale Ale (2012)\",\n",
       "       'Gordon Imperial Red (2010)', 'Gordon (2005)',\n",
       "       'Ten Fidy Imperial Stout (2008)', 'Ten Fidy Imperial Stout (2007)',\n",
       "       '21st Amendment IPA (2006)', 'Brew Free! or Die IPA (2008)',\n",
       "       'Brew Free! or Die IPA (2009)', 'Caldera IPA (2009)',\n",
       "       'Caldera IPA (2007)', 'Ace IPA', 'Double Haul IPA (2009)',\n",
       "       'Double Haul IPA (2006)', \"Dale's Pale Ale (2011)\",\n",
       "       \"Dale's Pale Ale (2010)\", 'Burning Bush Smoked IPA',\n",
       "       'Wolf Among Weeds IPA (2012)',\n",
       "       'Old Grogham Imperial India Pale Ale (2012)',\n",
       "       \"Dale's Pale Ale (2008)\", \"Dale's Pale Ale (2006)\",\n",
       "       \"Dale's Pale Ale (2004)\", \"Dale's Pale Ale (2003)\",\n",
       "       \"Dale's Pale Ale (2002)\", 'Hop Slayer Double IPA (2011)',\n",
       "       'California Sunshine Rye IPA', 'Midnight Ryder',\n",
       "       \"G'KNIGHT (16 oz.)\", 'Over the Rail Pale Ale',\n",
       "       'Hop A Potamus Double Dark Rye Pale Ale', 'Rodeo Clown Double IPA',\n",
       "       'Elevated IPA', 'Hopworks IPA (2012)', 'Isis', 'Hoppy Boy',\n",
       "       'Monkeynaut IPA', 'Ryeteous Rye IPA (2012)', 'Resin',\n",
       "       'Independence Pass Ale', 'HGH (Home Grown Hops): Part Duh',\n",
       "       'Big Sky IPA (2012)', 'Westbrook IPA', 'Tocobaga Red Ale',\n",
       "       'Eclipse Black IPA', 'Jai Alai IPA', 'Old Elephant Foot IPA',\n",
       "       'Big Cock IPA', 'Grapefruit Jungle (GFJ) (2011)', 'Diesel',\n",
       "       'Evolutionary IPA (2011)', 'Alphadelic IPA (2011)',\n",
       "       'Missouri Mule India Pale Ale', 'Hop Box Imperial IPA',\n",
       "       'Hopadillo India Pale Ale', \"Bourbon's Barrel Stout\",\n",
       "       'Great Crescent Stout', \"Flyin' HI.P.Hay\", 'Sockeye Red IPA',\n",
       "       'Hop Crisis', 'Shiva IPA', 'Anti-Hero IPA',\n",
       "       'Crank Yanker IPA (2011)', \"G'KNIGHT (12 oz.)\",\n",
       "       'Black Adder IBA (Current)', 'Upstate I.P.W.',\n",
       "       \"Hop Ottin' IPA (2011)\", 'WET', 'Gandhi-Bot Double IPA ',\n",
       "       'Vortex IPA', 'Hop Shock IPA (2010)', 'Snake Handler Double IPA',\n",
       "       'Lucky U IPA', 'The Corruption', 'Stowaway IPA', 'Back in Black',\n",
       "       'Ranger IPA (Current)', 'Avery India Pale Ale', 'Oasis (2010)',\n",
       "       'Third Eye Pale Ale', 'Double Haul IPA', 'Ballz Deep Double IPA',\n",
       "       'Caldera IPA', 'Big Swell IPA', '113 IPA', 'Abrasive Ale',\n",
       "       'Furious', 'Brew Free! or Die IPA', 'Ten Fidy Imperial Stout',\n",
       "       'GUBNA Imperial IPA', 'Gordon Ale (2009)'], dtype=object)"
      ]
     },
     "execution_count": 140,
     "metadata": {},
     "output_type": "execute_result"
    }
   ],
   "source": [
    "df.query(\"IBUs > 64\").Beer.unique()"
   ]
  },
  {
   "cell_type": "markdown",
   "metadata": {},
   "source": [
    "## List all of the beers with IBUs below the 25th percentile"
   ]
  },
  {
   "cell_type": "code",
   "execution_count": 141,
   "metadata": {},
   "outputs": [
    {
     "data": {
      "text/plain": [
       "array([\"Wall's End\", \"Sho'nuff\", 'Bloody Show', 'The Brown Note',\n",
       "       'House Lager', 'Leisure Time', 'Park', 'Westfalia', 'KSA',\n",
       "       'Sparkle', 'Hotbox Brown', 'Gold', 'Cafe Leche',\n",
       "       'Damascene Apricot Sour', 'Sex Panther', 'Vanilla Porter', 'Gose',\n",
       "       'Vermont Pilsner', 'Ginger Peach Saison', 'Weissenheimer',\n",
       "       'Passion Fruit Prussia', 'Send Help', 'Daft Funk',\n",
       "       'Bat Outta Helles', 'Rye Wit', 'Yo Soy Un Berliner',\n",
       "       \"Farmer's Daughter Blonde\", 'Honey Rye', 'Honey Badger Blonde',\n",
       "       'Old Pro', 'Vanilla Java Porter', 'Saddle Bronc Brown Ale',\n",
       "       'Bomber Mountain Amber Ale', 'Jammer', 'Blackberry Wheat',\n",
       "       'Rhode Island Blueberry', 'Watermelon Ale',\n",
       "       'Bunker Hill Blueberry Ale', 'Deception', 'P-Town Pilsner',\n",
       "       'Nonstop Hef Hop', 'Laka Laka Pineapple', 'Blood Orange Honey',\n",
       "       'Mr. Blue Sky', 'Weisse Versa (2012)', '18th Anniversary Gose',\n",
       "       'Point Special (Current)', 'Point Special',\n",
       "       'Morning Wood Wheat (Current)', 'Hunny Do Wheat', 'Gansett Light',\n",
       "       'Shotgun Betty', 'Knotty Blonde Ale', \"PUNK'N\", 'Sunbru Kölsch',\n",
       "       'River House', 'Summer Brew', 'Suzy B Dirty Blonde Ale', 'Rad',\n",
       "       'Lobo Lito', 'American Lager', 'American Amber', 'American Light',\n",
       "       'Lake House', \"Ermal's\", 'Honey Kolsch', 'Copperhead Amber',\n",
       "       'Twisted X', 'Sol Drifter', '312 Urban Wheat Ale',\n",
       "       'Couch Select Lager', 'Double D Blonde', 'Lost Meridian Wit',\n",
       "       'Joey Wheat', 'Onyx Black Ale', 'Robert Earl Keen Honey Pils',\n",
       "       \"Summer's Wit\", 'Point Special (2013)', 'Point Special (2012)',\n",
       "       'Broken Bridge', 'Point Special Lager', 'What the Butler Saw',\n",
       "       'Laughing Dog Cream Ale', 'Aprè Shred', 'Blood Orange Wit',\n",
       "       'Hop Up Offa That Brett (2014)', 'Boathouse Blonde', 'Noche Dulce',\n",
       "       'Weize Guy', 'UFO Gingerland', 'Skylight', 'Pub Ale',\n",
       "       \"Here Gose Nothin'\", 'Ale Cider', 'The Great Pumpcan',\n",
       "       'Cherry Ale', 'LuckenBock', 'FMB 101', 'Upland Wheat Ale',\n",
       "       'Monkey Chased the Weasel', 'SunSpot Golden Ale', 'Beach Blonde',\n",
       "       'Alaskan Amber', 'Black Market Hefeweizen',\n",
       "       'Gutch English Style Mild Ale', 'Whitecap Wit',\n",
       "       'Seiche Scottish Ale', 'Local Buzz', 'Saint Archer White Ale',\n",
       "       'Porch Rocker', 'LIFT', '#9', 'The Tradition', 'Hot Date Ale',\n",
       "       'Hijack', 'Stone Fort Brown Ale', 'When Helles Freezes Over',\n",
       "       'Bronx Summer Pale Ale', 'A Slice of Hefen', '805',\n",
       "       'Wick For Brains', 'Schweet Ale', 'KelSo Nut Brown Lager',\n",
       "       'King Street Hefeweizen', 'Chai Ale', 'Banner American Rye',\n",
       "       'Pumpkin Beast', 'Chickawawa Lemonale',\n",
       "       'Sly Fox Christmas Ale 2013', 'Fat Tire Amber Ale',\n",
       "       'Four Peaks Peach Ale', 'Lahaina Town Brown',\n",
       "       'Sweet Yamma Jamma Ale', 'Starr Pils', 'Agave Wheat',\n",
       "       'Barney Flats Oatmeal Stout', 'Shark Bait',\n",
       "       'Golden Road Hefeweizen', 'Summer Paradise',\n",
       "       'Oval Beach Blonde Ale', 'Wolverine Premium Lager',\n",
       "       'Hideout Helles', 'Dead Eye Dunkel',\n",
       "       'Parcae Belgian Style Pale Ale', 'Norns Roggenbier',\n",
       "       'Laimas Kölsch Style Ale', \"Stone's Throw IPA\",\n",
       "       'Weiss Trash Culture', 'Kölsch 151', 'Tybee Island Blonde',\n",
       "       'Horny Monk', 'Two-One Niner', 'Old Forge Pumpkin Ale',\n",
       "       'Sanitas Saison Ale', 'Double D Blonde (2013)', 'Beaver Logger',\n",
       "       'Half Full Bright Ale', 'Point Oktoberfest', 'Schuylkill Punch',\n",
       "       '541 American Lager', 'Summer Solstice', 'UFO Pumpkin',\n",
       "       'Float Trip Ale', 'Greenbelt Farmhouse Ale', 'Hardywood Cream Ale',\n",
       "       'Boont Amber Ale', 'Big Rod Coconut Ale',\n",
       "       'Wild Wolf Wee Heavy Scottish Style Ale',\n",
       "       'Steel Rail Extra Pale Ale', 'Westbrook Gose',\n",
       "       'Estival Cream Stout', 'Dog Days Lager',\n",
       "       'Samuel Adams Octoberfest', 'Longboard Island Lager',\n",
       "       'El Hefe Speaks', 'Dos Pistolas', 'Cotton Mouth', 'Wild Night',\n",
       "       'Love Street Summer Seasonal (2014)',\n",
       "       'Point Nude Beach Summer Wheat', \"SUM'R\",\n",
       "       'Twisted Helles Summer Lager', 'Bomber Mountain Amber Ale (2013)',\n",
       "       'Saddle Bronc Brown Ale (2013)', 'Wagon Box Wheat Beer',\n",
       "       'Wild Plum Farmhouse Ale', 'Peninsula Brewers Reserve (PBR)',\n",
       "       'Hazy Day Belgian-Style Wit', \"Mo's Gose\", 'Lumberyard Pilsner',\n",
       "       'Woolybugger Wheat', 'EOS Hefeweizen', 'Brunette Nut Brown Ale',\n",
       "       'Samuel Adams Summer Ale', 'Helles Golden Lager', 'Elder Betty',\n",
       "       'Sweet As Pacific Ale', 'Epicenter Amber Ale', 'SanTan HefeWeizen',\n",
       "       'Barn Burner Saison', 'Vanilla Bean Buffalo Sweat',\n",
       "       \"The Hole in Hadrian's Wall\", 'Honey Wheat', 'The Lawn Ranger',\n",
       "       'Country Pale Ale', 'Orange Wheat', 'Hangar 24 Helles Lager',\n",
       "       'Tallgrass Pub Ale', 'Get Up Offa That Brown',\n",
       "       'Booyah Farmhouse Ale', 'Sly Fox Christmas Ale 2012 (2012)',\n",
       "       'Northern Lights Amber Ale', 'Polar Pale Ale', 'Pumpkan',\n",
       "       'Wheat the People', 'Apricot Blonde', 'Lawnmower Lager',\n",
       "       'Dry Dock Hefeweizen', 'Widespread Wit', 'Bombshell Blonde',\n",
       "       'Sex Panther (2014)', 'Black Walnut Wheat',\n",
       "       'Boont Amber Ale (2010)', 'Hell or High Watermelon Wheat (2009)',\n",
       "       '21st Amendment Watermelon Wheat Beer (2006)', 'Choc Beer (2003)',\n",
       "       'Mr. Pineapple', 'Blueberry Blonde Ale',\n",
       "       'Point Nude Beach Summer Wheat (2011)', 'Buffalo Sweat',\n",
       "       'Cold Smoke Scotch Ale (2007)',\n",
       "       'Summer Solstice Cerveza Crema (2009)',\n",
       "       'Fat Tire Amber Ale (2011)', \"Hilliard's Blonde\",\n",
       "       'Devils Tramping Ground Tripel', 'Lava Lake Wit',\n",
       "       'Halcyon Unfiltered Wheat', 'Blue Point Summer Ale',\n",
       "       'Three Kings Ale', 'Full Boar Scotch Ale', 'Cherry Ale (1)',\n",
       "       'Apollo', 'Blacktop Blonde', 'Wachusett Blueberry Ale',\n",
       "       'UFO White', 'Rosa Hibiscus Ale', 'Schlafly Hefeweizen',\n",
       "       'Snowshoe White Ale', '312 Urban Wheat Ale (2012)', 'White Thai',\n",
       "       'Blackbeary Wheat', 'Barney Flats Oatmeal Stout (2012)',\n",
       "       'Jon Boat Coastal Ale', 'Golden Road Hefeweizen (2012)',\n",
       "       'La Perouse White', 'Florida Cracker Belgian Wit',\n",
       "       'Dirty Blonde Ale', 'Tin Roof Blonde Ale', \"Atwater's Lager\",\n",
       "       'Winter Solstice', 'McKinney Eddy Amber Ale', 'SoDo Brown Ale',\n",
       "       'Purple Haze', 'Abita Amber', 'Double D Blonde (2011)',\n",
       "       'Great Crescent Belgian Style Wit', 'Joseph James American Lager',\n",
       "       'Top Rope Mexican-style Craft Lager', 'Weisse Versa',\n",
       "       'Dundee Summer Wheat Beer', 'Mustang Golden Ale', 'Washita Wheat',\n",
       "       'Bottom Up Belgian Wit', 'Snake River Lager',\n",
       "       'Black Star Double Hopped Golden Lager ',\n",
       "       'Pyramid Hefeweizen (2011)', 'Wild Onion Summer Wit',\n",
       "       'SummerBright Ale', 'Whitsun', 'Mexican Logger', 'Festie',\n",
       "       'Narragansett Fest Lager', 'Mana Wheat',\n",
       "       'SanTan HefeWeizen (2010)', 'Flaming Damsel Lager (2010)',\n",
       "       'Point Nude Beach Summer Wheat (2010)', 'Point Amber Classic',\n",
       "       \"O'Fallon Wheach\", 'Epicenter Amber Ale (2010)', 'White Rascal',\n",
       "       'Ellie’s Brown Ale', 'Köld Lager (2010)', 'Buffalo Sweat (2010)',\n",
       "       'Colorado Kölsch', 'Cold Smoke Scotch Ale', 'Avalanche Ale',\n",
       "       'Haywire Hefeweizen (2010)', 'Boont Amber Ale (2011)',\n",
       "       'Summer Solstice (2011)', 'Fat Tire Amber Ale (2008)',\n",
       "       'Sunlight Cream Ale', 'Schlafly Summer Lager',\n",
       "       'Bikini Blonde Lager', 'Royal Weisse Ale', 'Hell',\n",
       "       'Hell or High Watermelon Wheat'], dtype=object)"
      ]
     },
     "execution_count": 141,
     "metadata": {},
     "output_type": "execute_result"
    }
   ],
   "source": [
    "df.query(\"IBUs < 21\").Beer.unique()"
   ]
  },
  {
   "cell_type": "markdown",
   "metadata": {},
   "source": [
    "## List the median IBUs of each type of beer. Graph it.\n",
    "\n",
    "Put the highest at the top, and the missing ones at the bottom.\n",
    "\n",
    "- Tip: Look at the options for `sort_values` to figure out the `NaN` thing. The `?` probably won't help you here."
   ]
  },
  {
   "cell_type": "code",
   "execution_count": 154,
   "metadata": {},
   "outputs": [
    {
     "data": {
      "text/plain": [
       "<AxesSubplot:ylabel='Style'>"
      ]
     },
     "execution_count": 154,
     "metadata": {},
     "output_type": "execute_result"
    },
    {
     "data": {
      "image/png": "[encoded data removed]",
      "text/plain": [
       "<Figure size 360x1440 with 1 Axes>"
      ]
     },
     "metadata": {
      "needs_background": "light"
     },
     "output_type": "display_data"
    }
   ],
   "source": [
    "#df.groupby(by='Style').IBUs.median().sort_values().plot(kind=\"barh\")\n",
    "\n",
    "df.groupby(by='Style').IBUs.median().sort_values(na_position='first').plot(kind='barh', figsize=(5,20))"
   ]
  },
  {
   "cell_type": "code",
   "execution_count": null,
   "metadata": {},
   "outputs": [],
   "source": []
  },
  {
   "cell_type": "markdown",
   "metadata": {},
   "source": [
    "## Hmmmm, it looks like they are generally different styles. What are the most common 5 styles of high-IBU beer vs. low-IBU beer?\n",
    "\n",
    "- *Tip: You'll want to think about it in three pieces - filtering to only find the specific beers beers, then finding out what the most common styles are, then getting the top 5.*\n",
    "- *Tip: You CANNOT do this in one command. It's going to be one command for the high and one for the low.*\n",
    "- *Tip: \"High IBU\" means higher than 75th percentile, \"Low IBU\" is under 25th percentile*"
   ]
  },
  {
   "cell_type": "code",
   "execution_count": 158,
   "metadata": {},
   "outputs": [
    {
     "data": {
      "text/plain": [
       "American IPA                      195\n",
       "American Double / Imperial IPA     72\n",
       "American Pale Ale (APA)            18\n",
       "American Black Ale                 15\n",
       "American Strong Ale                 9\n",
       "Name: Style, dtype: int64"
      ]
     },
     "execution_count": 158,
     "metadata": {},
     "output_type": "execute_result"
    }
   ],
   "source": [
    "df.query(\"IBUs > 64\").Style.value_counts().head(5)"
   ]
  },
  {
   "cell_type": "code",
   "execution_count": 159,
   "metadata": {},
   "outputs": [
    {
     "data": {
      "text/plain": [
       "American Pale Wheat Ale    43\n",
       "American Blonde Ale        36\n",
       "Fruit / Vegetable Beer     28\n",
       "Hefeweizen                 21\n",
       "Witbier                    20\n",
       "Name: Style, dtype: int64"
      ]
     },
     "execution_count": 159,
     "metadata": {},
     "output_type": "execute_result"
    }
   ],
   "source": [
    "df.query(\"IBUs < 21\").Style.value_counts().head(5)"
   ]
  },
  {
   "cell_type": "markdown",
   "metadata": {},
   "source": [
    "## Get the average IBU of \"Witbier\", \"Hefeweizen\" and \"American Pale Wheat Ale\" styles\n",
    "\n",
    "I'm counting these as wheat beers. If you see any other wheat beer categories, feel free to include them. I want ONE measurement and ONE graph, not three separate ones. And 20 to 30 bins in the histogram, please.\n",
    "\n",
    "- *Tip: I hope that `isin` is in your toolbox*"
   ]
  },
  {
   "cell_type": "code",
   "execution_count": 253,
   "metadata": {},
   "outputs": [
    {
     "data": {
      "text/plain": [
       "18.982142857142858"
      ]
     },
     "execution_count": 253,
     "metadata": {},
     "output_type": "execute_result"
    }
   ],
   "source": [
    "#df.query(Style = \"Witbier\")\n",
    "\n",
    "wheat = [\"Witbier\", \"Hefeweizen\", \"American Pale Wheat Ale\"]\n",
    "\n",
    "df.query(\"Style in @wheat\").IBUs.mean()\n",
    "\n",
    "df[df.Style.isin(['Witbier', 'Hefeweizen', 'American Pale Wheat Ale'])].IBUs.mean()"
   ]
  },
  {
   "cell_type": "markdown",
   "metadata": {},
   "source": [
    "## Draw a histogram of the IBUs of those beers"
   ]
  },
  {
   "cell_type": "code",
   "execution_count": 169,
   "metadata": {},
   "outputs": [
    {
     "data": {
      "text/plain": [
       "<AxesSubplot:>"
      ]
     },
     "execution_count": 169,
     "metadata": {},
     "output_type": "execute_result"
    },
    {
     "data": {
      "image/png": "[encoded data removed]",
      "text/plain": [
       "<Figure size 432x288 with 1 Axes>"
      ]
     },
     "metadata": {
      "needs_background": "light"
     },
     "output_type": "display_data"
    }
   ],
   "source": [
    "df.query(\"Style in @wheat\").IBUs.hist()"
   ]
  },
  {
   "cell_type": "markdown",
   "metadata": {},
   "source": [
    "## Get the average IBU of any style with \"IPA\" in it (also draw a histogram)"
   ]
  },
  {
   "cell_type": "code",
   "execution_count": 225,
   "metadata": {},
   "outputs": [
    {
     "data": {
      "text/plain": [
       "71.94897959183673"
      ]
     },
     "execution_count": 225,
     "metadata": {},
     "output_type": "execute_result"
    }
   ],
   "source": [
    "ipa_df.IBUs.mean()"
   ]
  },
  {
   "cell_type": "code",
   "execution_count": 227,
   "metadata": {},
   "outputs": [
    {
     "data": {
      "text/plain": [
       "<AxesSubplot:>"
      ]
     },
     "execution_count": 227,
     "metadata": {},
     "output_type": "execute_result"
    },
    {
     "data": {
      "image/png": "[encoded data removed]",
      "text/plain": [
       "<Figure size 432x288 with 1 Axes>"
      ]
     },
     "metadata": {
      "needs_background": "light"
     },
     "output_type": "display_data"
    }
   ],
   "source": [
    "ipa_df.IBUs.hist()"
   ]
  },
  {
   "cell_type": "markdown",
   "metadata": {},
   "source": [
    "## Plot those two histograms on top of one another\n",
    "\n",
    "To plot two plots on top of one another, you *might* just be able to plot twice in the same cell. It depends on your version of pandas/matplotlib! If it doesn't work, you'll need do two steps.\n",
    "\n",
    "1. First, you make a plot using `plot` or `hist`, and you save it into a variable called `ax`.\n",
    "2. You draw your second graph using `plot` or `hist`, and send `ax=ax` to it as a parameter.\n",
    "\n",
    "It would look something like this:\n",
    "\n",
    "```python\n",
    "ax = df.plot(....)\n",
    "df.plot(ax=ax, ....)\n",
    "``` \n",
    "\n",
    "And then youull get two plots on top of each other. They won't be perfect because the bins won't line up without extra work, but it's fine!"
   ]
  },
  {
   "cell_type": "code",
   "execution_count": 242,
   "metadata": {},
   "outputs": [
    {
     "data": {
      "text/plain": [
       "<AxesSubplot:>"
      ]
     },
     "execution_count": 242,
     "metadata": {},
     "output_type": "execute_result"
    },
    {
     "data": {
      "image/png": "[encoded data removed]",
      "text/plain": [
       "<Figure size 432x288 with 1 Axes>"
      ]
     },
     "metadata": {
      "needs_background": "light"
     },
     "output_type": "display_data"
    }
   ],
   "source": [
    "ipa_df.IBUs.hist()\n",
    "df.query(\"Style in @wheat\").IBUs.hist()\n",
    "\n",
    "#hist(alpha=0.5)"
   ]
  },
  {
   "cell_type": "code",
   "execution_count": 237,
   "metadata": {},
   "outputs": [],
   "source": [
    "#ax = df.plot(x=\"Style in @wheat\", y=df.IBUs, kind='hist')"
   ]
  },
  {
   "cell_type": "markdown",
   "metadata": {},
   "source": [
    "## Compare the ABV of wheat beers vs. IPAs : their IBUs were really different, but how about their alcohol percentage?\n",
    "\n",
    "Wheat beers might include witbier, hefeweizen, American Pale Wheat Ale, and anything else you think is wheaty. IPAs probably have \"IPA\" in their name."
   ]
  },
  {
   "cell_type": "code",
   "execution_count": 238,
   "metadata": {},
   "outputs": [
    {
     "data": {
      "text/plain": [
       "5.043715846994536"
      ]
     },
     "execution_count": 238,
     "metadata": {},
     "output_type": "execute_result"
    }
   ],
   "source": [
    "df.query(\"Style in @wheat\").ABV.mean()"
   ]
  },
  {
   "cell_type": "code",
   "execution_count": 239,
   "metadata": {},
   "outputs": [
    {
     "data": {
      "text/plain": [
       "6.879285714285714"
      ]
     },
     "execution_count": 239,
     "metadata": {},
     "output_type": "execute_result"
    }
   ],
   "source": [
    "ipa_df.ABV.mean()"
   ]
  },
  {
   "cell_type": "code",
   "execution_count": null,
   "metadata": {},
   "outputs": [],
   "source": []
  },
  {
   "cell_type": "markdown",
   "metadata": {
    "collapsed": true
   },
   "source": [
    "## Good work!\n",
    "\n",
    "For making it this far, your reward is my recommendation for Athletic Brewing Co.'s products as the best non-alcoholic beer on the market. Their Run Wild IPA and Upside Dawn are both very solid."
   ]
  },
  {
   "cell_type": "code",
   "execution_count": null,
   "metadata": {},
   "outputs": [],
   "source": []
  }
 ],
 "metadata": {
  "kernelspec": {
   "display_name": "Python 3 (ipykernel)",
   "language": "python",
   "name": "python3"
  },
  "language_info": {
   "codemirror_mode": {
    "name": "ipython",
    "version": 3
   },
   "file_extension": ".py",
   "mimetype": "text/x-python",
   "name": "python",
   "nbconvert_exporter": "python",
   "pygments_lexer": "ipython3",
   "version": "3.10.3"
  }
 },
 "nbformat": 4,
 "nbformat_minor": 2
}
